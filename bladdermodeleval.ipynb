{
 "cells": [
  {
   "cell_type": "code",
   "execution_count": 1,
   "metadata": {},
   "outputs": [
    {
     "name": "stderr",
     "output_type": "stream",
     "text": [
      "Using TensorFlow backend.\n"
     ]
    },
    {
     "name": "stdout",
     "output_type": "stream",
     "text": [
      "Bladders class accuracy = 85.71\n"
     ]
    }
   ],
   "source": [
    "from keras.models import load_model\n",
    "from keras.models import model_from_json\n",
    "from keras.preprocessing import image\n",
    "from keras.applications.resnet50 import preprocess_input\n",
    "import numpy as np\n",
    "import os\n",
    "import decimal\n",
    "\n",
    "json_file = open('bladders.json', 'r')\n",
    "loaded_model_json = json_file.read()\n",
    "json_file.close()\n",
    "model = model_from_json(loaded_model_json)\n",
    "# load weights into new model\n",
    "model.load_weights(\"bladders.h5\")\n",
    "\n",
    "bladder_test_data_folder_path = 'test/bladder'\n",
    "market_test_data_folder_path = 'test/market'\n",
    "\n",
    "bladdersmatched = 0\n",
    "bladdersnotmatched = 0\n",
    "marketmatched = 0\n",
    "marketnotmatched = 0\n",
    "\n",
    "for img in os.listdir(bladder_test_data_folder_path):\n",
    "    if not img.startswith('.'):\n",
    "        img_path = os.path.join(bladder_test_data_folder_path,img)\n",
    "        img = image.load_img(img_path, target_size=(224, 224))\n",
    "        x = image.img_to_array(img)\n",
    "        x = np.expand_dims(x, axis=0)\n",
    "        x = preprocess_input(x)\n",
    "        preds = model.predict(x)\n",
    "        if(np.argmax(preds) == 0):\n",
    "            bladdersmatched+=1\n",
    "        else: bladdersnotmatched+=1\n",
    "\n",
    "for img in os.listdir(market_test_data_folder_path):\n",
    "    if not img.startswith('.'):\n",
    "        img_path = os.path.join(market_test_data_folder_path,img)\n",
    "        img = image.load_img(img_path, target_size=(224, 224))\n",
    "        x = image.img_to_array(img)\n",
    "        x = np.expand_dims(x, axis=0)\n",
    "        x = preprocess_input(x)\n",
    "        preds = model.predict(x)\n",
    "        if(np.argmax(preds) == 0):\n",
    "            marketmatched+=1\n",
    "        else: marketnotmatched+=1\n",
    "\n",
    "\n",
    "bladdersaccuracy = bladdersmatched/(bladdersmatched+bladdersnotmatched)\n",
    "print('Bladders class accuracy = {:0.2f}'.format(bladdersaccuracy*100))"
   ]
  },
  {
   "cell_type": "code",
   "execution_count": null,
   "metadata": {},
   "outputs": [],
   "source": []
  },
  {
   "cell_type": "code",
   "execution_count": null,
   "metadata": {},
   "outputs": [],
   "source": []
  }
 ],
 "metadata": {
  "kernelspec": {
   "display_name": "Python 3",
   "language": "python",
   "name": "python3"
  },
  "language_info": {
   "codemirror_mode": {
    "name": "ipython",
    "version": 3
   },
   "file_extension": ".py",
   "mimetype": "text/x-python",
   "name": "python",
   "nbconvert_exporter": "python",
   "pygments_lexer": "ipython3",
   "version": "3.7.4"
  }
 },
 "nbformat": 4,
 "nbformat_minor": 2
}
